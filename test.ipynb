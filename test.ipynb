{
 "cells": [
  {
   "cell_type": "code",
   "execution_count": 1,
   "id": "32424794",
   "metadata": {},
   "outputs": [],
   "source": [
    "#test.py\n",
    "def add(a,b):\n",
    "    return a+b"
   ]
  },
  {
   "cell_type": "code",
   "execution_count": 3,
   "id": "6a44804d",
   "metadata": {},
   "outputs": [],
   "source": [
    "def least_difference(a, b, c):\n",
    "    \"\"\"Return the smallest difference between any two numbers\n",
    "    among a, b and c.\n",
    "    \n",
    "    >>> least_difference(1, 5, -5)\n",
    "    4\n",
    "    \"\"\"\n",
    "    diff1 = abs(a - b)\n",
    "    diff2 = abs(b - c)\n",
    "    diff3 = abs(a - c)\n",
    "    return min(diff1, diff2, diff3)"
   ]
  },
  {
   "cell_type": "code",
   "execution_count": null,
   "id": "00249947",
   "metadata": {},
   "outputs": [],
   "source": [
    "least_difference(10,20,5)"
   ]
  },
  {
   "cell_type": "code",
   "execution_count": null,
   "id": "647b2bef",
   "metadata": {},
   "outputs": [],
   "source": [
    "# Variables representing the number of candies collected by alice, bob, and carol\n",
    "alice_candies = 121\n",
    "bob_candies = 77\n",
    "carol_candies = 109\n",
    "\n",
    "# Your code goes here! Replace the right-hand side of this assignment with an expression\n",
    "# involving alice_candies, bob_candies, and carol_candies\n",
    "(alice_candies+bob_candies+carol_candies)%3\n",
    "\n",
    "to_smash=1\n",
    "# Check your answer"
   ]
  },
  {
   "cell_type": "code",
   "execution_count": null,
   "id": "42aaf2a5",
   "metadata": {},
   "outputs": [],
   "source": [
    "print((alice_candies+bob_candies+carol_candies)%3)"
   ]
  },
  {
   "cell_type": "code",
   "execution_count": null,
   "id": "1a3be971",
   "metadata": {},
   "outputs": [],
   "source": [
    "(121+77+109)%3"
   ]
  },
  {
   "cell_type": "code",
   "execution_count": null,
   "id": "69d966b5",
   "metadata": {},
   "outputs": [],
   "source": [
    "def to_smash(total_candies,a=3):\n",
    "    \"\"\"Return the number of leftover candies that must be smashed after distributing\n",
    "    the given number of candies evenly between 3 friends.\n",
    "    \n",
    "    >>> to_smash(91)\n",
    "    1\n",
    "    \"\"\"\n",
    "    return total_candies % a"
   ]
  },
  {
   "cell_type": "code",
   "execution_count": null,
   "id": "83940419",
   "metadata": {},
   "outputs": [],
   "source": [
    "to_smash(10)"
   ]
  },
  {
   "cell_type": "markdown",
   "id": "167d77c3",
   "metadata": {},
   "source": [
    "20%3"
   ]
  },
  {
   "cell_type": "code",
   "execution_count": null,
   "id": "38c4088e",
   "metadata": {},
   "outputs": [],
   "source": [
    "def sign(x):\n",
    "    if x<0:\n",
    "        return -1\n",
    "    elif x==0:\n",
    "        return 0\n",
    "    else:\n",
    "        return 1"
   ]
  },
  {
   "cell_type": "code",
   "execution_count": null,
   "id": "d1992b18",
   "metadata": {},
   "outputs": [],
   "source": [
    "sign(1)"
   ]
  },
  {
   "cell_type": "code",
   "execution_count": null,
   "id": "68c6a1fb",
   "metadata": {},
   "outputs": [],
   "source": [
    "def to_smash(total_candies):\n",
    "    \"\"\"Return the number of leftover candies that must be smashed after distributing\n",
    "    the given number of candies evenly between 3 friends.\n",
    "    \n",
    "    >>> to_smash(91)\n",
    "    1\n",
    "    \"\"\"\n",
    "    if total_candies == 1:\n",
    "        print(\"Splitting\", total_candies, \"candy\")\n",
    "        return total_candies % 3\n",
    "    else:\n",
    "        print(\"Splitting\", total_candies, \"candies\")\n",
    "        return total_candies % 3\n",
    "\n",
    "to_smash(91)\n",
    "to_smash(1)"
   ]
  },
  {
   "cell_type": "code",
   "execution_count": null,
   "id": "779e762c",
   "metadata": {},
   "outputs": [],
   "source": [
    "#Here's a slightly more succinct solution using a conditional expression:\n",
    "def to_smash(total_candies):\n",
    "    print(\"Splitting\", total_candies, \"candy\" if total_candies == 1 else \"candies\")"
   ]
  },
  {
   "cell_type": "code",
   "execution_count": null,
   "id": "308e7727",
   "metadata": {},
   "outputs": [],
   "source": [
    "to_smash(91)\n",
    "to_smash(1)"
   ]
  },
  {
   "cell_type": "code",
   "execution_count": null,
   "id": "aece436b",
   "metadata": {},
   "outputs": [],
   "source": [
    "def prepared_for_weather(have_umbrella, rain_level, have_hood, is_workday):\n",
    "    # Don't change this code. Our goal is just to find the bug, not fix it!\n",
    "    return have_umbrella or rain_level < 5 and have_hood or not rain_level > 0 and is_workday\n",
    "\n",
    "# Change the values of these inputs so they represent a case where prepared_for_weather\n",
    "# returns the wrong answer.\n",
    "have_umbrella = False\n",
    "rain_level = 0.0\n",
    "have_hood = False\n",
    "is_workday = False\n",
    "\n",
    "# Check what the function returns given the current values of the variables above\n",
    "actual = prepared_for_weather(have_umbrella, rain_level, have_hood, is_workday)\n",
    "print(actual)"
   ]
  },
  {
   "cell_type": "code",
   "execution_count": null,
   "id": "ab23727f",
   "metadata": {},
   "outputs": [],
   "source": [
    "def concise_is_negative(number):\n",
    "    return True if number < 0 else False\n",
    "    pass"
   ]
  },
  {
   "cell_type": "code",
   "execution_count": null,
   "id": "52ff8fff",
   "metadata": {},
   "outputs": [],
   "source": [
    "concise_is_negative(111)"
   ]
  },
  {
   "cell_type": "code",
   "execution_count": 12,
   "id": "e11f3eea",
   "metadata": {},
   "outputs": [],
   "source": [
    "def concise_is_negative(number):\n",
    "    return number < 0\n",
    "    pass"
   ]
  },
  {
   "cell_type": "code",
   "execution_count": 13,
   "id": "71031136",
   "metadata": {},
   "outputs": [
    {
     "data": {
      "text/plain": [
       "True"
      ]
     },
     "execution_count": 13,
     "metadata": {},
     "output_type": "execute_result"
    }
   ],
   "source": [
    "concise_is_negative(-1)"
   ]
  },
  {
   "cell_type": "code",
   "execution_count": null,
   "id": "7a4f3734",
   "metadata": {},
   "outputs": [],
   "source": [
    "def wants_all_toppings(ketchup, mustard, onion):\n",
    "    \"\"\"Return whether the customer wants \"the works\" (all 3 toppings)\n",
    "    \"\"\"\n",
    "    if (ketchup==True) and (mustard==True) and (onion==True):\n",
    "        return True\n",
    "    else:\n",
    "        return False"
   ]
  },
  {
   "cell_type": "code",
   "execution_count": null,
   "id": "f472eb81",
   "metadata": {},
   "outputs": [],
   "source": [
    "wants_all_toppings(ketchup=True,mustard=True, onion=False)"
   ]
  },
  {
   "cell_type": "code",
   "execution_count": null,
   "id": "70146ee7",
   "metadata": {},
   "outputs": [],
   "source": [
    "def wants_all_toppings(ketchup, mustard, onion):\n",
    "    \"\"\"Return whether the customer wants \"the works\" (all 3 toppings)\n",
    "    \"\"\"\n",
    "    return ketchup and mustard and onion"
   ]
  },
  {
   "cell_type": "code",
   "execution_count": null,
   "id": "adf237d0",
   "metadata": {},
   "outputs": [],
   "source": [
    "wants_all_toppings(ketchup=True, mustard=False, onion=True)"
   ]
  },
  {
   "cell_type": "code",
   "execution_count": null,
   "id": "291b0b68",
   "metadata": {},
   "outputs": [],
   "source": [
    "def wants_plain_hotdog(ketchup, mustard, onion):\n",
    "    \"\"\"Return whether the customer wants a plain hot dog with no toppings.\n",
    "    \"\"\"\n",
    "    if ketchup ==False and mustard == False and onion == False:\n",
    "        return True\n",
    "    else:\n",
    "        return False\n",
    "    pass"
   ]
  },
  {
   "cell_type": "code",
   "execution_count": null,
   "id": "561857d3",
   "metadata": {},
   "outputs": [],
   "source": [
    "wants_plain_hotdog(ketchup=True, mustard=True, onion=True)"
   ]
  },
  {
   "cell_type": "code",
   "execution_count": null,
   "id": "ee09f0e3",
   "metadata": {},
   "outputs": [],
   "source": [
    "def wants_plain_hotdog(ketchup, mustard, onion):\n",
    "    \"\"\"Return whether the customer wants a plain hot dog with no toppings.\n",
    "    \"\"\"\n",
    "    return not(ketchup) and not(mustard) and not(onion)"
   ]
  },
  {
   "cell_type": "code",
   "execution_count": null,
   "id": "9a69c7b2",
   "metadata": {},
   "outputs": [],
   "source": [
    "wants_plain_hotdog(ketchup=False, mustard=False, onion=False)"
   ]
  },
  {
   "cell_type": "code",
   "execution_count": null,
   "id": "42e47a8d",
   "metadata": {},
   "outputs": [],
   "source": [
    "def exactly_one_sauce(ketchup, mustard, onion):\n",
    "    \"\"\"Return whether the customer wants either ketchup or mustard, but not both.\n",
    "    (You may be familiar with this operation under the name \"exclusive or\")\n",
    "    \"\"\"\n",
    "    return (ketchup and not mustard) or (mustard and not ketchup)\n",
    "    pass"
   ]
  },
  {
   "cell_type": "code",
   "execution_count": null,
   "id": "01cf9d51",
   "metadata": {},
   "outputs": [],
   "source": [
    "exactly_one_sauce(ketchup=True, mustard=False, onion=True)"
   ]
  },
  {
   "cell_type": "code",
   "execution_count": null,
   "id": "c814c0b0",
   "metadata": {},
   "outputs": [],
   "source": [
    "def exactly_one_topping(ketchup, mustard, onion):\n",
    "    \"\"\"Return whether the customer wants exactly one of the three available toppings\n",
    "    on their hot dog.\n",
    "    \"\"\"\n",
    "    return (int(ketchup) + int(mustard) + int(onion)) == 1\n",
    "    pass"
   ]
  },
  {
   "cell_type": "code",
   "execution_count": null,
   "id": "c8a8d2fa",
   "metadata": {},
   "outputs": [],
   "source": [
    "exactly_one_topping(ketchup=True, mustard=False, onion=False)"
   ]
  },
  {
   "cell_type": "code",
   "execution_count": null,
   "id": "29a82d73",
   "metadata": {},
   "outputs": [],
   "source": [
    "def exactly_one_topping(ketchup, mustard, onion):\n",
    "    \"\"\"Return whether the customer wants exactly one of the three available toppings\n",
    "    on their hot dog.\n",
    "    \"\"\"\n",
    "    return (ketchup + mustard + onion) == 1\n",
    "    pass"
   ]
  },
  {
   "cell_type": "code",
   "execution_count": null,
   "id": "82cd8208",
   "metadata": {},
   "outputs": [],
   "source": [
    "exactly_one_topping(ketchup=True, mustard=False, onion=False)"
   ]
  },
  {
   "cell_type": "code",
   "execution_count": 54,
   "id": "25a3d447",
   "metadata": {},
   "outputs": [],
   "source": [
    "def select_second1(L):\n",
    "    \"\"\"Return the second element of the given list. If the list has no second\n",
    "    element, return None.\n",
    "    \"\"\"\n",
    "    return L[1]\n",
    "    pass\n"
   ]
  },
  {
   "cell_type": "code",
   "execution_count": 56,
   "id": "b11360ca",
   "metadata": {},
   "outputs": [
    {
     "data": {
      "text/plain": [
       "6"
      ]
     },
     "execution_count": 56,
     "metadata": {},
     "output_type": "execute_result"
    }
   ],
   "source": [
    "select_second([5,6,7,8])"
   ]
  },
  {
   "cell_type": "code",
   "execution_count": 57,
   "id": "f89a5a37",
   "metadata": {},
   "outputs": [],
   "source": [
    "def select_second2(L):\n",
    "    if len(L) < 2:\n",
    "        return None\n",
    "    return L[1]"
   ]
  },
  {
   "cell_type": "code",
   "execution_count": 60,
   "id": "c8ff4d6a",
   "metadata": {},
   "outputs": [
    {
     "data": {
      "text/plain": [
       "8"
      ]
     },
     "execution_count": 60,
     "metadata": {},
     "output_type": "execute_result"
    }
   ],
   "source": [
    "select_second([9,8,7,6,5])"
   ]
  },
  {
   "cell_type": "code",
   "execution_count": 61,
   "id": "a27ee667",
   "metadata": {},
   "outputs": [],
   "source": [
    "import datetime"
   ]
  },
  {
   "cell_type": "code",
   "execution_count": 73,
   "id": "f305ebc1",
   "metadata": {},
   "outputs": [],
   "source": [
    "today = datetime.date.today()\n",
    "one_month_ago = today - datetime.timedelta(days=30)"
   ]
  },
  {
   "cell_type": "code",
   "execution_count": 74,
   "id": "9477e26c",
   "metadata": {},
   "outputs": [
    {
     "name": "stdout",
     "output_type": "stream",
     "text": [
      "2021-08-16\n",
      "2021-07-17\n"
     ]
    }
   ],
   "source": [
    "print(today)\n",
    "print(one_month_ago)"
   ]
  },
  {
   "cell_type": "code",
   "execution_count": 7,
   "id": "ef125a3c",
   "metadata": {},
   "outputs": [
    {
     "name": "stdout",
     "output_type": "stream",
     "text": [
      "Enter the number: 5\n",
      "factorial of 5 is 120\n"
     ]
    }
   ],
   "source": [
    "num = int(input(\"Enter the number: \"))\n",
    "fact = 1\n",
    "for i in range(1,num+1):\n",
    "    fact = fact*i\n",
    "print(f\"factorial of {num} is {fact}\")"
   ]
  },
  {
   "cell_type": "code",
   "execution_count": 2,
   "id": "75f1f2c4",
   "metadata": {},
   "outputs": [
    {
     "name": "stdout",
     "output_type": "stream",
     "text": [
      "  $  \n",
      " $$$ \n",
      "$$$$$\n"
     ]
    }
   ],
   "source": [
    "n = 3\n",
    "for i in range(3): \n",
    "    print(\" \" * (n-i-1), end=\"\")\n",
    "    print(\"$\" * (2*i+1), end=\"\")\n",
    "    print(\" \" * (n-i-1))"
   ]
  },
  {
   "cell_type": "code",
   "execution_count": 34,
   "id": "c7348978",
   "metadata": {},
   "outputs": [
    {
     "name": "stdout",
     "output_type": "stream",
     "text": [
      "Enter the number: 5\n",
      "0\n",
      "1\n",
      "3\n",
      "6\n",
      "10\n",
      "15\n"
     ]
    }
   ],
   "source": [
    "n = int(input(\"Enter the number: \"))\n",
    "n1,n2 = 0, 1\n",
    "for x in range(0,n+1):\n",
    "    fib = fib+x\n",
    "    x = \n",
    "    print(fib)"
   ]
  },
  {
   "cell_type": "code",
   "execution_count": 17,
   "id": "a701b82c",
   "metadata": {},
   "outputs": [
    {
     "name": "stdout",
     "output_type": "stream",
     "text": [
      "Enter the number: 5\n",
      "1\n",
      "2\n",
      "3\n",
      "4\n"
     ]
    }
   ],
   "source": [
    "n = int(input(\"Enter the number: \"))\n",
    "#fib = 0\n",
    "for x in range(1,n):\n",
    "    print(x)"
   ]
  },
  {
   "cell_type": "code",
   "execution_count": 9,
   "id": "0bac4dfa",
   "metadata": {},
   "outputs": [],
   "source": [
    "def fib(n):\n",
    "    a=0\n",
    "    b=1\n",
    "    if n==1:\n",
    "        print(a)\n",
    "    elif n<0:\n",
    "        print(\"Invalid num\")\n",
    "    else:\n",
    "        print(a)\n",
    "        print(b)\n",
    "    for i in range(2,n):\n",
    "        c = a+b\n",
    "        a = b\n",
    "        b = c\n",
    "        if c>100:\n",
    "            break\n",
    "        print(c)\n",
    "        "
   ]
  },
  {
   "cell_type": "code",
   "execution_count": 10,
   "id": "334b5039",
   "metadata": {},
   "outputs": [
    {
     "name": "stdout",
     "output_type": "stream",
     "text": [
      "0\n",
      "1\n",
      "1\n",
      "2\n",
      "3\n"
     ]
    }
   ],
   "source": [
    "fib(5)"
   ]
  },
  {
   "cell_type": "code",
   "execution_count": 15,
   "id": "f17f7071",
   "metadata": {},
   "outputs": [
    {
     "name": "stdout",
     "output_type": "stream",
     "text": [
      "01234\n"
     ]
    }
   ],
   "source": [
    "camp =\"\"\n",
    "for x in range(5):\n",
    "    camp+=str(x)\n",
    "print(camp)"
   ]
  },
  {
   "cell_type": "code",
   "execution_count": 16,
   "id": "d0becb68",
   "metadata": {},
   "outputs": [
    {
     "name": "stdout",
     "output_type": "stream",
     "text": [
      "Requirement already satisfied: beautifulsoup4 in c:\\anaconda101\\lib\\site-packages (4.9.3)\n",
      "Requirement already satisfied: soupsieve>1.2 in c:\\anaconda101\\lib\\site-packages (from beautifulsoup4) (2.2.1)\n",
      "Note: you may need to restart the kernel to use updated packages.\n"
     ]
    }
   ],
   "source": [
    "pip install beautifulsoup4"
   ]
  },
  {
   "cell_type": "code",
   "execution_count": 11,
   "id": "025b374b",
   "metadata": {},
   "outputs": [
    {
     "name": "stdout",
     "output_type": "stream",
     "text": [
      "This is funn!\n",
      "This is funn!\n",
      "This is funn!\n",
      "This is funn!\n",
      "This is funn!\n",
      "This is funn!\n",
      "This is funn!\n",
      "This is funn!\n",
      "This is funn!\n",
      "This is funn!\n"
     ]
    }
   ],
   "source": [
    "for i in range(10):\n",
    "    print(\"This is funn!\")"
   ]
  },
  {
   "cell_type": "code",
   "execution_count": 27,
   "id": "c74c7523",
   "metadata": {},
   "outputs": [
    {
     "name": "stdout",
     "output_type": "stream",
     "text": [
      "-1\n",
      "it's a -ve num\n"
     ]
    }
   ],
   "source": [
    "x=int(input())\n",
    "if x>0:\n",
    "    print(\"it's a +ve num\")\n",
    "elif(x==0):\n",
    "    print(\"Zero\")\n",
    "else:\n",
    "    print(\"it's a -ve num\")"
   ]
  },
  {
   "cell_type": "code",
   "execution_count": 4,
   "id": "c4ca571e",
   "metadata": {},
   "outputs": [],
   "source": [
    "def factorial_recur(n):\n",
    "    if n==1 or n==0:\n",
    "        return 1\n",
    "    else:\n",
    "        return n*factorial_recur(n-1)"
   ]
  },
  {
   "cell_type": "code",
   "execution_count": 8,
   "id": "412249ca",
   "metadata": {},
   "outputs": [
    {
     "data": {
      "text/plain": [
       "120"
      ]
     },
     "execution_count": 8,
     "metadata": {},
     "output_type": "execute_result"
    }
   ],
   "source": [
    "factorial_recur(5)"
   ]
  },
  {
   "cell_type": "code",
   "execution_count": null,
   "id": "fc949a1c",
   "metadata": {},
   "outputs": [],
   "source": []
  }
 ],
 "metadata": {
  "kernelspec": {
   "display_name": "Python 3",
   "language": "python",
   "name": "python3"
  },
  "language_info": {
   "codemirror_mode": {
    "name": "ipython",
    "version": 3
   },
   "file_extension": ".py",
   "mimetype": "text/x-python",
   "name": "python",
   "nbconvert_exporter": "python",
   "pygments_lexer": "ipython3",
   "version": "3.8.8"
  }
 },
 "nbformat": 4,
 "nbformat_minor": 5
}
